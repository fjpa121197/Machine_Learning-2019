{
 "cells": [
  {
   "cell_type": "code",
   "execution_count": 24,
   "metadata": {},
   "outputs": [],
   "source": [
    "import pandas as pd\n",
    "import numpy as np\n",
    "from sklearn.model_selection import KFold, cross_val_score, GridSearchCV\n",
    "from sklearn import tree\n",
    "from sklearn.model_selection import train_test_split\n",
    "from sklearn.preprocessing import StandardScaler\n",
    "from sklearn.metrics import classification_report, confusion_matrix\n",
    "from sklearn.ensemble import RandomForestClassifier\n",
    "from sklearn import svm\n",
    "from sklearn.impute import KNNImputer\n",
    "from sklearn.neighbors import KNeighborsClassifier\n",
    "from xgboost import XGBClassifier\n",
    "from sklearn.metrics import accuracy_score\n",
    "from feature_selector import FeatureSelector #credits to Will Koehrsen\n",
    "#his class is on github https://github.com/WillKoehrsen/feature-selector/blob/master/Feature%20Selector%20Usage.ipynb"
   ]
  },
  {
   "cell_type": "code",
   "execution_count": 25,
   "metadata": {},
   "outputs": [
    {
     "data": {
      "text/plain": [
       "SVC(C=100.0, break_ties=False, cache_size=200, class_weight=None, coef0=0.0,\n",
       "    decision_function_shape='ovr', degree=3, gamma=0.01, kernel='rbf',\n",
       "    max_iter=-1, probability=False, random_state=None, shrinking=True,\n",
       "    tol=0.001, verbose=False)"
      ]
     },
     "execution_count": 25,
     "metadata": {},
     "output_type": "execute_result"
    }
   ],
   "source": [
    "#Read the dataset that is for training the model\n",
    "data_training = pd.read_csv(\"CE802_Ass_2019_Data.csv\")\n",
    "data_class_train = data_training[\"Class\"]\n",
    "data_full_train = data_training.drop(columns = [\"Class\",\"F1\",\"F2\",\"F5\",\"F8\",\"F11\",\"F12\",\"F15\",\"F17\",\"F18\"],axis = 1)\n",
    "\n",
    "imputer = KNNImputer(n_neighbors=2, weights=\"uniform\")\n",
    "data_features = imputer.fit_transform(data_full_train)\n",
    "data_feat = pd.DataFrame(data_features, index=range(data_features.shape[0]),\n",
    "                                      columns=range(data_features.shape[1])) \n",
    "#Lets first normalize the features for K-NN and SVM\n",
    "scaler = StandardScaler()\n",
    "scaler.fit(data_feat)\n",
    "data_feat = scaler.transform(data_feat)\n",
    "\n",
    "#Training model\n",
    "svm_model = svm.SVC(C= 100.0, gamma= 0.01)\n",
    "svm_model.fit(data_feat,data_class_train)"
   ]
  },
  {
   "cell_type": "code",
   "execution_count": 26,
   "metadata": {},
   "outputs": [],
   "source": [
    "#Read the dataset that is going to be predicted\n",
    "data_pred= pd.read_csv(\"CE802_Ass_2019_Test.csv\")\n",
    "data_pred = data_pred.drop(columns = [\"Class\",\"F1\",\"F2\",\"F5\",\"F8\",\"F11\",\"F12\",\"F15\",\"F17\",\"F18\"],axis = 1)\n",
    "\n",
    "imputer = KNNImputer(n_neighbors=2, weights=\"uniform\")\n",
    "data_features = imputer.fit_transform(data_pred)\n",
    "data_pred = pd.DataFrame(data_features, index=range(data_features.shape[0]),\n",
    "                                      columns=range(data_features.shape[1])) \n",
    "#Lets first normalize the features for K-NN and SVM\n",
    "scaler = StandardScaler()\n",
    "scaler.fit(data_pred)\n",
    "data_pred = scaler.transform(data_pred)"
   ]
  },
  {
   "cell_type": "code",
   "execution_count": 27,
   "metadata": {},
   "outputs": [],
   "source": [
    "svm_pred = svm_model.predict(data_pred)\n",
    "pred =  pd.DataFrame(svm_pred,columns=['Class']) \n",
    "final_pred = pd.read_csv('CE802_Ass_2019_Test.csv')\n",
    "final_pred.drop(columns = ['Class'],inplace = True)\n",
    "submit_csv = pd.concat([final_pred,pred],axis=1)\n",
    "submit_csv.to_csv(\"CE802_Ass_2019_Test.csv\", index = False)"
   ]
  }
 ],
 "metadata": {
  "kernelspec": {
   "display_name": "Python 3",
   "language": "python",
   "name": "python3"
  },
  "language_info": {
   "codemirror_mode": {
    "name": "ipython",
    "version": 3
   },
   "file_extension": ".py",
   "mimetype": "text/x-python",
   "name": "python",
   "nbconvert_exporter": "python",
   "pygments_lexer": "ipython3",
   "version": "3.7.4"
  }
 },
 "nbformat": 4,
 "nbformat_minor": 2
}
