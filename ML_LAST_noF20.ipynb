{
 "cells": [
  {
   "cell_type": "code",
   "execution_count": 1,
   "metadata": {},
   "outputs": [],
   "source": [
    "import pandas as pd\n",
    "import numpy as np\n",
    "from sklearn.model_selection import KFold, cross_val_score, GridSearchCV\n",
    "from sklearn import tree\n",
    "from sklearn.model_selection import train_test_split\n",
    "from sklearn.preprocessing import StandardScaler\n",
    "from sklearn.metrics import classification_report, confusion_matrix\n",
    "from sklearn.ensemble import RandomForestClassifier\n",
    "from sklearn import svm\n",
    "from sklearn.impute import KNNImputer\n",
    "from sklearn.neighbors import KNeighborsClassifier\n",
    "from xgboost import XGBClassifier\n",
    "from sklearn.metrics import accuracy_score"
   ]
  },
  {
   "cell_type": "code",
   "execution_count": 2,
   "metadata": {},
   "outputs": [],
   "source": [
    "#Read the dataset\n",
    "data_full = pd.read_csv(\"CE802_Ass_2019_Data.csv\")\n",
    "\n",
    "#Lets drop F20 feature\n",
    "data_nof20 = pd.read_csv(\"CE802_Ass_2019_Data.csv\")\n",
    "data_nof20.drop(columns=['F20'], inplace = True)\n",
    "\n",
    "#Lets separate the features and target\n",
    "data_nof20_class = data_nof20[\"Class\"]\n",
    "data_nof20_feat = data_nof20.drop(columns = [\"Class\"],axis = 1)\n",
    "\n",
    "#Lets first normalize the features for K-NN and SVM\n",
    "scaler = StandardScaler()\n",
    "scaler.fit(data_nof20_feat)\n",
    "data_nof20_feat = scaler.transform(data_nof20_feat)\n",
    "\n",
    "#Splitting of data to see model accuracy after cross validation and gridsearch\n",
    "data_feat_train, data_feat_test, data_class_train, data_class_test = train_test_split(data_nof20_feat,data_nof20_class,test_size=0.25,stratify=data_nof20_class,random_state=1234)"
   ]
  },
  {
   "cell_type": "markdown",
   "metadata": {},
   "source": [
    "Pruned Decision Tree"
   ]
  },
  {
   "cell_type": "code",
   "execution_count": 3,
   "metadata": {},
   "outputs": [
    {
     "name": "stdout",
     "output_type": "stream",
     "text": [
      "Best parameters: {'max_depth': 7, 'max_features': 'sqrt', 'min_samples_leaf': 5, 'min_samples_split': 11}\n",
      "Best score: 0.6134423897581792\n"
     ]
    }
   ],
   "source": [
    "#Decision tree using grid search\n",
    "clf_tree = tree.DecisionTreeClassifier(criterion = 'entropy',ccp_alpha=0.015,random_state=1234)\n",
    "param_grid = {'max_depth': np.arange(4,21),'min_samples_split': np.arange(4,21),'min_samples_leaf': np.arange(4,21),\n",
    "              'max_features': ['sqrt','auto','log2']}\n",
    "tree_gridcv = GridSearchCV(clf_tree,param_grid,cv=10 ,n_jobs=-1)\n",
    "tree_gridcv.fit(data_feat_train,data_class_train)\n",
    "\n",
    "print(\"Best parameters: \" + str(tree_gridcv.best_params_))\n",
    "print(\"Best score: \" + str(tree_gridcv.best_score_))"
   ]
  },
  {
   "cell_type": "code",
   "execution_count": 4,
   "metadata": {},
   "outputs": [
    {
     "name": "stdout",
     "output_type": "stream",
     "text": [
      "Average accuracy: 0.6134423897581792\n",
      "0.09027409087775647\n",
      "[[65  5]\n",
      " [47  8]]\n",
      "              precision    recall  f1-score   support\n",
      "\n",
      "       False       0.58      0.93      0.71        70\n",
      "        True       0.62      0.15      0.24        55\n",
      "\n",
      "    accuracy                           0.58       125\n",
      "   macro avg       0.60      0.54      0.47       125\n",
      "weighted avg       0.60      0.58      0.50       125\n",
      "\n"
     ]
    }
   ],
   "source": [
    "#Now with these parameters, lets perform cross validation\n",
    "clf_tree_prunned = tree.DecisionTreeClassifier(criterion = 'entropy',ccp_alpha=0.015,\n",
    "                                               max_depth= tree_gridcv.best_params_['max_depth'],\n",
    "                                               min_samples_leaf= tree_gridcv.best_params_['min_samples_leaf'],\n",
    "                                               min_samples_split=tree_gridcv.best_params_['min_samples_split'],\n",
    "                                               max_features=tree_gridcv.best_params_['max_features'],random_state=1234)\n",
    "\n",
    "#Now lets used cross validation in the whole data set, but with the best parameters by gridsearch\n",
    "score_tree = cross_val_score(clf_tree_prunned,data_feat_train,data_class_train,cv=10,n_jobs=-1)\n",
    "print('Average accuracy:', np.mean(score_tree))\n",
    "print(score_tree.std())\n",
    "#Now lets compute the confussion matrix by splitting the data into trainning and testing\n",
    "clf_tree_prunned.fit(data_feat_train,data_class_train)\n",
    "tree_pred = clf_tree_prunned.predict(data_feat_test)\n",
    "print(confusion_matrix(data_class_test, tree_pred))\n",
    "print(classification_report(data_class_test, tree_pred))"
   ]
  },
  {
   "cell_type": "markdown",
   "metadata": {},
   "source": [
    "K-NN"
   ]
  },
  {
   "cell_type": "code",
   "execution_count": 5,
   "metadata": {},
   "outputs": [
    {
     "name": "stdout",
     "output_type": "stream",
     "text": [
      "Best parameters: {'n_neighbors': 42, 'weights': 'distance'}\n",
      "Best score: 0.6028449502133713\n"
     ]
    }
   ],
   "source": [
    "knn_gridcv = KNeighborsClassifier()\n",
    "#create a dictionary with the number of neighbors to try\n",
    "param_gridsearch = {'n_neighbors': np.arange(1,80),'weights':['uniform','distance']}\n",
    "\n",
    "knn_gridsearch = GridSearchCV(knn_gridcv,param_gridsearch,cv=10)\n",
    "knn_gridsearch.fit(data_feat_train,data_class_train)\n",
    "print(\"Best parameters: \" + str(knn_gridsearch.best_params_))\n",
    "print(\"Best score: \"+ str(knn_gridsearch.best_score_))"
   ]
  },
  {
   "cell_type": "code",
   "execution_count": 6,
   "metadata": {},
   "outputs": [
    {
     "name": "stdout",
     "output_type": "stream",
     "text": [
      "Average accuracy: 0.6028449502133713\n",
      "0.03967940702390046\n",
      "[[63  7]\n",
      " [43 12]]\n",
      "              precision    recall  f1-score   support\n",
      "\n",
      "       False       0.59      0.90      0.72        70\n",
      "        True       0.63      0.22      0.32        55\n",
      "\n",
      "    accuracy                           0.60       125\n",
      "   macro avg       0.61      0.56      0.52       125\n",
      "weighted avg       0.61      0.60      0.54       125\n",
      "\n"
     ]
    }
   ],
   "source": [
    "#Now lets used cross validation in the whole data set, but with the best parameters by gridsearch\n",
    "knn_model = KNeighborsClassifier(n_neighbors = knn_gridsearch.best_params_['n_neighbors'],\n",
    "                                 weights=knn_gridsearch.best_params_['weights'])\n",
    "\n",
    "#Now lets used cross validation in the whole data set, but with the best parameters by gridsearch\n",
    "score_knn = cross_val_score(knn_model,data_feat_train,data_class_train,cv=10,n_jobs=-1)\n",
    "print('Average accuracy:', np.mean(score_knn))\n",
    "print(score_knn.std())\n",
    "#Now lets compute the confussion matrix by splitting the data into trainning and testing\n",
    "knn_model.fit(data_feat_train,data_class_train)\n",
    "knn_pred = knn_model.predict(data_feat_test)\n",
    "print(confusion_matrix(data_class_test, knn_pred))\n",
    "print(classification_report(data_class_test, knn_pred))"
   ]
  },
  {
   "cell_type": "markdown",
   "metadata": {},
   "source": [
    "Support Vector Machine"
   ]
  },
  {
   "cell_type": "code",
   "execution_count": 7,
   "metadata": {},
   "outputs": [
    {
     "name": "stdout",
     "output_type": "stream",
     "text": [
      "Best parameters: {'C': 1000.0, 'gamma': 0.01}\n",
      "Best score : 0.6694879089615932\n"
     ]
    }
   ],
   "source": [
    "clf_svm = svm.SVC()\n",
    "param_grid = {'C': np.logspace(-1, 3, 9),  \n",
    "              'gamma': np.logspace(-7, -0, 8)}\n",
    "\n",
    "svm_gridsearch = GridSearchCV(clf_svm,param_grid,n_jobs=-1, cv = 10)\n",
    "svm_gridsearch.fit(data_feat_train,data_class_train)\n",
    "\n",
    "print(\"Best parameters: \" + str(svm_gridsearch.best_params_))\n",
    "print(\"Best score : \" + str(svm_gridsearch.best_score_))"
   ]
  },
  {
   "cell_type": "code",
   "execution_count": 10,
   "metadata": {},
   "outputs": [
    {
     "name": "stdout",
     "output_type": "stream",
     "text": [
      "Average accuracy: 0.6694879089615932\n",
      "0.09547714481581449\n",
      "[[49 21]\n",
      " [22 33]]\n",
      "              precision    recall  f1-score   support\n",
      "\n",
      "       False       0.69      0.70      0.70        70\n",
      "        True       0.61      0.60      0.61        55\n",
      "\n",
      "    accuracy                           0.66       125\n",
      "   macro avg       0.65      0.65      0.65       125\n",
      "weighted avg       0.66      0.66      0.66       125\n",
      "\n"
     ]
    }
   ],
   "source": [
    "#Now lets used cross validation in the whole data set, but with the best parameters by gridsearch\n",
    "svm_model = svm.SVC(C = svm_gridsearch.best_params_['C'],gamma=svm_gridsearch.best_params_['gamma'])\n",
    "\n",
    "#Now lets used cross validation in the whole data set, but with the best parameters by gridsearch\n",
    "score_svm = cross_val_score(svm_model,data_feat_train,data_class_train,cv=10,n_jobs=-1)\n",
    "print('Average accuracy:', np.mean(score_svm))\n",
    "print(score_svm.std())\n",
    "#Now lets compute the confussion matrix by splitting the data into trainning and testing\n",
    "svm_model.fit(data_feat_train,data_class_train)\n",
    "svm_pred = svm_model.predict(data_feat_test)\n",
    "print(confusion_matrix(data_class_test, svm_pred))\n",
    "print(classification_report(data_class_test, svm_pred))"
   ]
  },
  {
   "cell_type": "markdown",
   "metadata": {},
   "source": [
    "Random Forest"
   ]
  },
  {
   "cell_type": "code",
   "execution_count": 11,
   "metadata": {},
   "outputs": [
    {
     "name": "stdout",
     "output_type": "stream",
     "text": [
      "Best parameters: {'max_depth': 4, 'n_estimators': 550}\n",
      "Best score: 0.5893314366998578\n"
     ]
    }
   ],
   "source": [
    "rf = RandomForestClassifier(criterion='entropy',random_state=1234)\n",
    "param_grid = {'n_estimators':[400,450,500,550,600],'max_depth': np.arange(4,20)}\n",
    "#'max_depth': np.arange(4,19),'min_samples_split': np.arange(4,19),'min_samples_leaf': np.arange(4,25)}\n",
    "\n",
    "rf = GridSearchCV(rf, param_grid,cv=10,n_jobs=-1)\n",
    "rf.fit(data_feat_train,data_class_train)\n",
    "\n",
    "print(\"Best parameters: \"+ str(rf.best_params_))\n",
    "print(\"Best score: \" + str(rf.best_score_))"
   ]
  },
  {
   "cell_type": "code",
   "execution_count": 12,
   "metadata": {},
   "outputs": [
    {
     "name": "stdout",
     "output_type": "stream",
     "text": [
      "Average accuracy: 0.5893314366998578\n",
      "0.052208130872285936\n",
      "[[59 11]\n",
      " [43 12]]\n",
      "              precision    recall  f1-score   support\n",
      "\n",
      "       False       0.58      0.84      0.69        70\n",
      "        True       0.52      0.22      0.31        55\n",
      "\n",
      "    accuracy                           0.57       125\n",
      "   macro avg       0.55      0.53      0.50       125\n",
      "weighted avg       0.55      0.57      0.52       125\n",
      "\n"
     ]
    }
   ],
   "source": [
    "#Now lets used cross validation in the whole data set, but with the best parameters by gridsearch\n",
    "rf_model = rf = RandomForestClassifier(criterion='entropy',n_estimators= rf.best_params_['n_estimators'],\n",
    "                                      max_depth=rf.best_params_['max_depth'],random_state=1234)\n",
    "\n",
    "\n",
    "#Now lets used cross validation in the whole data set, but with the best parameters by gridsearch\n",
    "score_rf = cross_val_score(rf_model,data_feat_train,data_class_train,cv=10,n_jobs=-1)\n",
    "print('Average accuracy:', np.mean(score_rf))\n",
    "print(score_rf.std())\n",
    "#Now lets compute the confussion matrix by splitting the data into trainning and testing\n",
    "rf_model.fit(data_feat_train,data_class_train)\n",
    "rf_pred = rf_model.predict(data_feat_test)\n",
    "print(confusion_matrix(data_class_test, rf_pred))\n",
    "print(classification_report(data_class_test, rf_pred))"
   ]
  },
  {
   "cell_type": "code",
   "execution_count": null,
   "metadata": {},
   "outputs": [],
   "source": []
  }
 ],
 "metadata": {
  "kernelspec": {
   "display_name": "Python 3",
   "language": "python",
   "name": "python3"
  },
  "language_info": {
   "codemirror_mode": {
    "name": "ipython",
    "version": 3
   },
   "file_extension": ".py",
   "mimetype": "text/x-python",
   "name": "python",
   "nbconvert_exporter": "python",
   "pygments_lexer": "ipython3",
   "version": "3.7.4"
  }
 },
 "nbformat": 4,
 "nbformat_minor": 2
}
