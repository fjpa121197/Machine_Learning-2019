{
 "cells": [
  {
   "cell_type": "code",
   "execution_count": 1,
   "metadata": {},
   "outputs": [],
   "source": [
    "import pandas as pd\n",
    "import numpy as np\n",
    "from sklearn.model_selection import KFold, cross_val_score, GridSearchCV\n",
    "from sklearn import tree\n",
    "from sklearn.model_selection import train_test_split\n",
    "from sklearn.preprocessing import StandardScaler\n",
    "from sklearn.metrics import classification_report, confusion_matrix\n",
    "from sklearn.ensemble import RandomForestClassifier\n",
    "from sklearn import svm\n",
    "from sklearn.neighbors import KNeighborsClassifier\n",
    "from xgboost import XGBClassifier\n",
    "from sklearn.metrics import accuracy_score"
   ]
  },
  {
   "cell_type": "code",
   "execution_count": 2,
   "metadata": {},
   "outputs": [],
   "source": [
    "#Read the dataset\n",
    "data_full = pd.read_csv(\"CE802_Ass_2019_Data.csv\")\n",
    "\n",
    "#Replace missing values with mean\n",
    "\n",
    "data_full.fillna(data_full['F20'].mean(),inplace = True)\n",
    "\n",
    "#Lets separate the features and target\n",
    "data_f20mean_class = data_full[\"Class\"]\n",
    "data_f20mean_feat = data_full.drop(columns = [\"Class\"],axis = 1)"
   ]
  },
  {
   "cell_type": "code",
   "execution_count": 3,
   "metadata": {},
   "outputs": [],
   "source": [
    "#Lets first normalize the features for K-NN and SVM\n",
    "scaler = StandardScaler()\n",
    "scaler.fit(data_f20mean_feat)\n",
    "data_f20mean_feat = scaler.transform(data_f20mean_feat)\n",
    "\n",
    "#Splitting of data to see model accuracy after cross validation and gridsearch\n",
    "data_feat_train, data_feat_test, data_class_train, data_class_test = train_test_split(data_f20mean_feat,data_f20mean_class,test_size=0.25,stratify=data_f20mean_class,random_state=1234)"
   ]
  },
  {
   "cell_type": "markdown",
   "metadata": {},
   "source": [
    "Pruned Decision Tree"
   ]
  },
  {
   "cell_type": "code",
   "execution_count": 4,
   "metadata": {},
   "outputs": [
    {
     "name": "stdout",
     "output_type": "stream",
     "text": [
      "Best parameters: {'max_depth': 10, 'min_samples_leaf': 6, 'min_samples_split': 4}\n",
      "Best score: 0.6159317211948792\n"
     ]
    }
   ],
   "source": [
    "#Decision tree using grid search\n",
    "clf_tree = tree.DecisionTreeClassifier(criterion = 'entropy',random_state=1234)\n",
    "param_grid = {'max_depth': np.arange(4,21),'min_samples_split': np.arange(4,21),'min_samples_leaf': np.arange(4,21)}\n",
    "tree_gridcv = GridSearchCV(clf_tree,param_grid,cv=10 ,n_jobs=-1)\n",
    "tree_gridcv.fit(data_feat_train,data_class_train)\n",
    "\n",
    "print(\"Best parameters: \" + str(tree_gridcv.best_params_))\n",
    "print(\"Best score: \" + str(tree_gridcv.best_score_))"
   ]
  },
  {
   "cell_type": "code",
   "execution_count": 5,
   "metadata": {},
   "outputs": [
    {
     "name": "stdout",
     "output_type": "stream",
     "text": [
      "Average accuracy: 0.6159317211948792\n",
      "[[37 33]\n",
      " [22 33]]\n",
      "              precision    recall  f1-score   support\n",
      "\n",
      "       False       0.63      0.53      0.57        70\n",
      "        True       0.50      0.60      0.55        55\n",
      "\n",
      "    accuracy                           0.56       125\n",
      "   macro avg       0.56      0.56      0.56       125\n",
      "weighted avg       0.57      0.56      0.56       125\n",
      "\n"
     ]
    }
   ],
   "source": [
    "#Now with these parameters, lets perform cross validation\n",
    "clf_tree_prunned = tree.DecisionTreeClassifier(criterion = 'entropy',random_state=1234,\n",
    "                                               max_depth= tree_gridcv.best_params_['max_depth'],\n",
    "                                               min_samples_leaf= tree_gridcv.best_params_['min_samples_leaf'],\n",
    "                                               min_samples_split=tree_gridcv.best_params_['min_samples_split'] )\n",
    "\n",
    "#Now lets used cross validation in the whole data set, but with the best parameters by gridsearch\n",
    "score_tree = cross_val_score(clf_tree_prunned,data_feat_train,data_class_train,cv=10,n_jobs=-1)\n",
    "print('Average accuracy:', np.mean(score_tree))\n",
    "\n",
    "#Now lets compute the confussion matrix by splitting the data into trainning and testing\n",
    "clf_tree_prunned.fit(data_feat_train,data_class_train)\n",
    "tree_pred = clf_tree_prunned.predict(data_feat_test)\n",
    "print(confusion_matrix(data_class_test, tree_pred))\n",
    "print(classification_report(data_class_test, tree_pred))"
   ]
  },
  {
   "cell_type": "markdown",
   "metadata": {},
   "source": [
    "K-NN"
   ]
  },
  {
   "cell_type": "code",
   "execution_count": 11,
   "metadata": {},
   "outputs": [
    {
     "name": "stdout",
     "output_type": "stream",
     "text": [
      "Best parameters: {'n_neighbors': 22, 'weights': 'distance'}\n",
      "Best score: 0.6136557610241822\n"
     ]
    }
   ],
   "source": [
    "knn_gridcv = KNeighborsClassifier()\n",
    "#create a dictionary with the number of neighbors to try\n",
    "param_gridsearch = {'n_neighbors': np.arange(1,80),'weights':['uniform','distance']}\n",
    "\n",
    "knn_gridsearch = GridSearchCV(knn_gridcv,param_gridsearch,cv=10)\n",
    "knn_gridsearch.fit(data_feat_train,data_class_train)\n",
    "print(\"Best parameters: \" + str(knn_gridsearch.best_params_))\n",
    "print(\"Best score: \"+ str(knn_gridsearch.best_score_))"
   ]
  },
  {
   "cell_type": "code",
   "execution_count": 12,
   "metadata": {},
   "outputs": [
    {
     "name": "stdout",
     "output_type": "stream",
     "text": [
      "Average accuracy: 0.6136557610241822\n",
      "[[62  8]\n",
      " [36 19]]\n",
      "              precision    recall  f1-score   support\n",
      "\n",
      "       False       0.63      0.89      0.74        70\n",
      "        True       0.70      0.35      0.46        55\n",
      "\n",
      "    accuracy                           0.65       125\n",
      "   macro avg       0.67      0.62      0.60       125\n",
      "weighted avg       0.66      0.65      0.62       125\n",
      "\n"
     ]
    }
   ],
   "source": [
    "#Now lets used cross validation in the whole data set, but with the best parameters by gridsearch\n",
    "knn_model = KNeighborsClassifier(n_neighbors = knn_gridsearch.best_params_['n_neighbors'],\n",
    "                                 weights=knn_gridsearch.best_params_['weights'])\n",
    "\n",
    "#Now lets used cross validation in the whole data set, but with the best parameters by gridsearch\n",
    "score_knn = cross_val_score(knn_model,data_feat_train,data_class_train,cv=10,n_jobs=-1)\n",
    "print('Average accuracy:', np.mean(score_knn))\n",
    "\n",
    "#Now lets compute the confussion matrix by splitting the data into trainning and testing\n",
    "knn_model.fit(data_feat_train,data_class_train)\n",
    "knn_pred = knn_model.predict(data_feat_test)\n",
    "print(confusion_matrix(data_class_test, knn_pred))\n",
    "print(classification_report(data_class_test, knn_pred))"
   ]
  },
  {
   "cell_type": "markdown",
   "metadata": {},
   "source": [
    "Support Vector Machine"
   ]
  },
  {
   "cell_type": "code",
   "execution_count": 13,
   "metadata": {},
   "outputs": [
    {
     "name": "stdout",
     "output_type": "stream",
     "text": [
      "Best parameters: {'C': 1000.0, 'gamma': 0.01}\n",
      "Best score : 0.6484352773826458\n"
     ]
    }
   ],
   "source": [
    "clf_svm = svm.SVC()\n",
    "param_grid = {'C': np.logspace(-1, 3, 9),  \n",
    "              'gamma': np.logspace(-7, -0, 8)}\n",
    "\n",
    "svm_gridsearch = GridSearchCV(clf_svm,param_grid,n_jobs=-1, cv = 10)\n",
    "svm_gridsearch.fit(data_feat_train,data_class_train)\n",
    "\n",
    "print(\"Best parameters: \" + str(svm_gridsearch.best_params_))\n",
    "print(\"Best score : \" + str(svm_gridsearch.best_score_))"
   ]
  },
  {
   "cell_type": "code",
   "execution_count": 14,
   "metadata": {},
   "outputs": [
    {
     "name": "stdout",
     "output_type": "stream",
     "text": [
      "Average accuracy: 0.6484352773826458\n",
      "[[49 21]\n",
      " [23 32]]\n",
      "              precision    recall  f1-score   support\n",
      "\n",
      "       False       0.68      0.70      0.69        70\n",
      "        True       0.60      0.58      0.59        55\n",
      "\n",
      "    accuracy                           0.65       125\n",
      "   macro avg       0.64      0.64      0.64       125\n",
      "weighted avg       0.65      0.65      0.65       125\n",
      "\n"
     ]
    }
   ],
   "source": [
    "#Now lets used cross validation in the whole data set, but with the best parameters by gridsearch\n",
    "svm_model = svm.SVC(C = svm_gridsearch.best_params_['C'],gamma=svm_gridsearch.best_params_['gamma'])\n",
    "\n",
    "#Now lets used cross validation in the whole data set, but with the best parameters by gridsearch\n",
    "score_svm = cross_val_score(svm_model,data_feat_train,data_class_train,cv=10,n_jobs=-1)\n",
    "print('Average accuracy:', np.mean(score_svm))\n",
    "\n",
    "#Now lets compute the confussion matrix by splitting the data into trainning and testing\n",
    "svm_model.fit(data_feat_train,data_class_train)\n",
    "svm_pred = svm_model.predict(data_feat_test)\n",
    "print(confusion_matrix(data_class_test, svm_pred))\n",
    "print(classification_report(data_class_test, svm_pred))"
   ]
  },
  {
   "cell_type": "markdown",
   "metadata": {},
   "source": [
    "Random Forest"
   ]
  },
  {
   "cell_type": "code",
   "execution_count": 11,
   "metadata": {},
   "outputs": [
    {
     "name": "stdout",
     "output_type": "stream",
     "text": [
      "Best parameters: {'max_depth': 11, 'n_estimators': 450}\n",
      "Best score: 0.6425320056899004\n"
     ]
    }
   ],
   "source": [
    "rf = RandomForestClassifier(criterion='entropy',random_state=1234)\n",
    "param_grid = {'n_estimators':[400,450,500,550,600],'max_depth': np.arange(4,20)}\n",
    "#'max_depth': np.arange(4,19),'min_samples_split': np.arange(4,19),'min_samples_leaf': np.arange(4,25)}\n",
    "\n",
    "rf = GridSearchCV(rf, param_grid,cv=10,n_jobs=-1)\n",
    "rf.fit(data_feat_train,data_class_train)\n",
    "\n",
    "print(\"Best parameters: \"+ str(rf.best_params_))\n",
    "print(\"Best score: \" + str(rf.best_score_))"
   ]
  },
  {
   "cell_type": "code",
   "execution_count": 12,
   "metadata": {},
   "outputs": [
    {
     "name": "stdout",
     "output_type": "stream",
     "text": [
      "Average accuracy: 0.6425320056899004\n",
      "0.0775915513341942\n",
      "[[52 18]\n",
      " [29 26]]\n",
      "              precision    recall  f1-score   support\n",
      "\n",
      "       False       0.64      0.74      0.69        70\n",
      "        True       0.59      0.47      0.53        55\n",
      "\n",
      "    accuracy                           0.62       125\n",
      "   macro avg       0.62      0.61      0.61       125\n",
      "weighted avg       0.62      0.62      0.62       125\n",
      "\n"
     ]
    }
   ],
   "source": [
    "#Now lets used cross validation in the whole data set, but with the best parameters by gridsearch\n",
    "rf_model = rf = RandomForestClassifier(criterion='entropy',n_estimators= rf.best_params_['n_estimators'],\n",
    "                                      max_depth=rf.best_params_['max_depth'],random_state=1234)\n",
    "\n",
    "\n",
    "#Now lets used cross validation in the whole data set, but with the best parameters by gridsearch\n",
    "score_rf = cross_val_score(rf_model,data_feat_train,data_class_train,cv=10,n_jobs=-1)\n",
    "print('Average accuracy:', np.mean(score_rf))\n",
    "print(score_rf.std())\n",
    "#Now lets compute the confussion matrix by splitting the data into trainning and testing\n",
    "rf_model.fit(data_feat_train,data_class_train)\n",
    "rf_pred = rf_model.predict(data_feat_test)\n",
    "print(confusion_matrix(data_class_test, rf_pred))\n",
    "print(classification_report(data_class_test, rf_pred))"
   ]
  },
  {
   "cell_type": "code",
   "execution_count": null,
   "metadata": {},
   "outputs": [],
   "source": []
  }
 ],
 "metadata": {
  "kernelspec": {
   "display_name": "Python 3",
   "language": "python",
   "name": "python3"
  },
  "language_info": {
   "codemirror_mode": {
    "name": "ipython",
    "version": 3
   },
   "file_extension": ".py",
   "mimetype": "text/x-python",
   "name": "python",
   "nbconvert_exporter": "python",
   "pygments_lexer": "ipython3",
   "version": "3.7.4"
  }
 },
 "nbformat": 4,
 "nbformat_minor": 2
}
